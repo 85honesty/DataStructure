{
  "nbformat": 4,
  "nbformat_minor": 0,
  "metadata": {
    "colab": {
      "name": "자료구조20220408.ipynb",
      "provenance": [],
      "collapsed_sections": [],
      "machine_shape": "hm",
      "authorship_tag": "ABX9TyMbmfxxFdPzQeR2xe3coqwv",
      "include_colab_link": true
    },
    "kernelspec": {
      "name": "python3",
      "display_name": "Python 3"
    },
    "language_info": {
      "name": "python"
    },
    "accelerator": "GPU"
  },
  "cells": [
    {
      "cell_type": "markdown",
      "metadata": {
        "id": "view-in-github",
        "colab_type": "text"
      },
      "source": [
        "<a href=\"https://colab.research.google.com/github/85honesty/DataStructure/blob/main/%EC%9E%90%EB%A3%8C%EA%B5%AC%EC%A1%B020220408.ipynb\" target=\"_parent\"><img src=\"https://colab.research.google.com/assets/colab-badge.svg\" alt=\"Open In Colab\"/></a>"
      ]
    },
    {
      "cell_type": "code",
      "execution_count": 3,
      "metadata": {
        "colab": {
          "base_uri": "https://localhost:8080/"
        },
        "id": "WnabD-oJbP1z",
        "outputId": "7864156c-0ad8-43e2-e138-2f587297c9c3"
      },
      "outputs": [
        {
          "output_type": "stream",
          "name": "stdout",
          "text": [
            "소녀시대\n",
            "소녀시대 이(가) 트리에 없음\n"
          ]
        }
      ],
      "source": [
        "## 함수 선언 부분 ##\n",
        "class TreeNode() :\n",
        "\tdef __init__ (self) :\n",
        "\t\tself.left = None\n",
        "\t\tself.data = None\n",
        "\t\tself.right = None\n",
        "\n",
        "## 전역 변수 선언 부분 ##\n",
        "memory = []\n",
        "root = None\n",
        "nameAry = ['블랙핑크', '레드벨벳', '마마무', '에이핑크',  '걸스데이', '트와이스',\n",
        "           '잇지', '여자친구' ]\n",
        "\n",
        "## 메인 코드 부분 ##\n",
        "node = TreeNode()\n",
        "node.data = nameAry[0]\n",
        "root = node\n",
        "memory.append(node)\n",
        "\n",
        "for name in nameAry[1:] :\n",
        "\n",
        "\tnode = TreeNode()\n",
        "\tnode.data = name\n",
        "\n",
        "\tcurrent = root\n",
        "\twhile True :\n",
        "\t\tif name < current.data :\n",
        "\t\t\tif current.left == None :\n",
        "\t\t\t\tcurrent.left = node\n",
        "\t\t\t\tbreak\n",
        "\t\t\tcurrent = current.left\n",
        "\t\telse :\n",
        "\t\t\tif current.right == None :\n",
        "\t\t\t\tcurrent.right = node\n",
        "\t\t\t\tbreak\n",
        "\t\t\tcurrent = current.right\n",
        "\n",
        "\tmemory.append(node)\n",
        "\n",
        "findName = input(str())\n",
        "\n",
        "current = root\n",
        "while True :\n",
        "\tif findName == current.data:\n",
        "\t\tprint(findName, '을(를) 찾음.')\n",
        "\t\tbreak\n",
        "\telif findName < current.data :\n",
        "\t\tif current.left == None :\n",
        "\t\t\tprint(findName, '이(가) 트리에 없음')\n",
        "\t\t\tbreak\n",
        "\t\tcurrent = current.left\n",
        "\telse :\n",
        "\t\tif current.right == None :\n",
        "\t\t\tprint(findName, '이(가) 트리에 없음')\n",
        "\t\t\tbreak\n",
        "\t\tcurrent = current.right\n"
      ]
    },
    {
      "cell_type": "code",
      "source": [
        ""
      ],
      "metadata": {
        "id": "iSTE62l8cLEw"
      },
      "execution_count": null,
      "outputs": []
    }
  ]
}