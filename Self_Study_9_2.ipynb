{
  "nbformat": 4,
  "nbformat_minor": 0,
  "metadata": {
    "colab": {
      "name": "Self Study 9-2.ipynb",
      "provenance": [],
      "authorship_tag": "ABX9TyMMmtUtaIjADqRy3vfoIB3I",
      "include_colab_link": true
    },
    "kernelspec": {
      "name": "python3",
      "display_name": "Python 3"
    },
    "language_info": {
      "name": "python"
    }
  },
  "cells": [
    {
      "cell_type": "markdown",
      "metadata": {
        "id": "view-in-github",
        "colab_type": "text"
      },
      "source": [
        "<a href=\"https://colab.research.google.com/github/85honesty/DataStructure/blob/main/Self_Study_9_2.ipynb\" target=\"_parent\"><img src=\"https://colab.research.google.com/assets/colab-badge.svg\" alt=\"Open In Colab\"/></a>"
      ]
    },
    {
      "cell_type": "code",
      "execution_count": 9,
      "metadata": {
        "colab": {
          "base_uri": "https://localhost:8080/"
        },
        "id": "j9hB-8TzKUJ3",
        "outputId": "280c809e-6416-4fe6-9b3f-1d155ee3b0a1"
      },
      "outputs": [
        {
          "output_type": "stream",
          "name": "stdout",
          "text": [
            "## 무방향 그래프 ##\n",
            "0 0 0 1 \n",
            "0 0 1 1 \n",
            "0 1 0 0 \n",
            "1 1 0 0 \n"
          ]
        }
      ],
      "source": [
        "## 함수 선언 부분 ##\n",
        "class Graph() :\n",
        "\tdef __init__ (self, size) :\n",
        "\t\tself.SIZE = size\n",
        "\t\tself.graph = [ [0 for _ in range(size)] for _ in range(size) ]\n",
        "\n",
        "## 전역 변수 선언 부분 ##\n",
        "G1, G3 = None, None\n",
        "\n",
        "## 메인 코드 부분 ##\n",
        "G1 = Graph(4)\n",
        "G1.graph[0][1] = 0; G1.graph[0][2] = 0; G1.graph[0][3] = 1\n",
        "G1.graph[1][0] = 0; G1.graph[1][2] = 1; G1.graph[1][3] = 1\n",
        "G1.graph[2][0] = 0; G1.graph[2][1] = 1; G1.graph[2][3] = 0\n",
        "G1.graph[3][0] = 1; G1.graph[3][1] = 1\n",
        "\n",
        "print('## 무방향 그래프 ##')\n",
        "for row in range(4) :\n",
        "\tfor col in range(4) :\n",
        "\t\tprint(G1.graph[row][col], end=' ')\n",
        "\tprint()\n",
        "\n",
        "# G3 = Graph(4)\n",
        "# G3.graph[0][1] = 1; G3.graph[0][2] = 1\n",
        "# G3.graph[3][0] = 1; G3.graph[3][2] = 1\n",
        "\n",
        "# print('## G3 방향 그래프 ##')\n",
        "# for row in range(4) :\n",
        "# \tfor col in range(4) :\n",
        "# \t\tprint(G3.graph[row][col], end=' ')\n",
        "# \tprint()\n"
      ]
    },
    {
      "cell_type": "code",
      "source": [
        ""
      ],
      "metadata": {
        "id": "fMmL5BFJKxhD"
      },
      "execution_count": null,
      "outputs": []
    }
  ]
}